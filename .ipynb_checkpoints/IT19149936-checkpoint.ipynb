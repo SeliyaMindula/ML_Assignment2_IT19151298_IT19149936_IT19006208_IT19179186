{
 "cells": [
  {
   "cell_type": "code",
   "execution_count": 1,
   "id": "4a1f4bb4",
   "metadata": {},
   "outputs": [],
   "source": [
    "#Import Packages"
   ]
  },
  {
   "cell_type": "code",
   "execution_count": 2,
   "id": "9c134d9c",
   "metadata": {},
   "outputs": [],
   "source": [
    "import numpy as np\n",
    "import pandas as pd"
   ]
  },
  {
   "cell_type": "code",
   "execution_count": 3,
   "id": "6e24b72b",
   "metadata": {},
   "outputs": [],
   "source": [
    "#Import Dataset"
   ]
  },
  {
   "cell_type": "code",
   "execution_count": 4,
   "id": "58e74621",
   "metadata": {},
   "outputs": [
    {
     "data": {
      "text/html": [
       "<div>\n",
       "<style scoped>\n",
       "    .dataframe tbody tr th:only-of-type {\n",
       "        vertical-align: middle;\n",
       "    }\n",
       "\n",
       "    .dataframe tbody tr th {\n",
       "        vertical-align: top;\n",
       "    }\n",
       "\n",
       "    .dataframe thead th {\n",
       "        text-align: right;\n",
       "    }\n",
       "</style>\n",
       "<table border=\"1\" class=\"dataframe\">\n",
       "  <thead>\n",
       "    <tr style=\"text-align: right;\">\n",
       "      <th></th>\n",
       "      <th>Education</th>\n",
       "      <th>JoiningYear</th>\n",
       "      <th>City</th>\n",
       "      <th>PaymentTier</th>\n",
       "      <th>Age</th>\n",
       "      <th>Gender</th>\n",
       "      <th>EverBenched</th>\n",
       "      <th>ExperienceInCurrentDomain</th>\n",
       "      <th>LeaveOrNot</th>\n",
       "    </tr>\n",
       "  </thead>\n",
       "  <tbody>\n",
       "    <tr>\n",
       "      <th>0</th>\n",
       "      <td>Bachelors</td>\n",
       "      <td>2017</td>\n",
       "      <td>Bangalore</td>\n",
       "      <td>3</td>\n",
       "      <td>34</td>\n",
       "      <td>Male</td>\n",
       "      <td>No</td>\n",
       "      <td>0</td>\n",
       "      <td>0</td>\n",
       "    </tr>\n",
       "    <tr>\n",
       "      <th>1</th>\n",
       "      <td>Bachelors</td>\n",
       "      <td>2013</td>\n",
       "      <td>Pune</td>\n",
       "      <td>1</td>\n",
       "      <td>28</td>\n",
       "      <td>Female</td>\n",
       "      <td>No</td>\n",
       "      <td>3</td>\n",
       "      <td>1</td>\n",
       "    </tr>\n",
       "    <tr>\n",
       "      <th>2</th>\n",
       "      <td>Bachelors</td>\n",
       "      <td>2014</td>\n",
       "      <td>New Delhi</td>\n",
       "      <td>3</td>\n",
       "      <td>38</td>\n",
       "      <td>Female</td>\n",
       "      <td>No</td>\n",
       "      <td>2</td>\n",
       "      <td>0</td>\n",
       "    </tr>\n",
       "    <tr>\n",
       "      <th>3</th>\n",
       "      <td>Masters</td>\n",
       "      <td>2016</td>\n",
       "      <td>Bangalore</td>\n",
       "      <td>3</td>\n",
       "      <td>27</td>\n",
       "      <td>Male</td>\n",
       "      <td>No</td>\n",
       "      <td>5</td>\n",
       "      <td>1</td>\n",
       "    </tr>\n",
       "    <tr>\n",
       "      <th>4</th>\n",
       "      <td>Masters</td>\n",
       "      <td>2017</td>\n",
       "      <td>Pune</td>\n",
       "      <td>3</td>\n",
       "      <td>24</td>\n",
       "      <td>Male</td>\n",
       "      <td>Yes</td>\n",
       "      <td>2</td>\n",
       "      <td>1</td>\n",
       "    </tr>\n",
       "  </tbody>\n",
       "</table>\n",
       "</div>"
      ],
      "text/plain": [
       "   Education  JoiningYear       City  PaymentTier  Age  Gender EverBenched  \\\n",
       "0  Bachelors         2017  Bangalore            3   34    Male          No   \n",
       "1  Bachelors         2013       Pune            1   28  Female          No   \n",
       "2  Bachelors         2014  New Delhi            3   38  Female          No   \n",
       "3    Masters         2016  Bangalore            3   27    Male          No   \n",
       "4    Masters         2017       Pune            3   24    Male         Yes   \n",
       "\n",
       "   ExperienceInCurrentDomain  LeaveOrNot  \n",
       "0                          0           0  \n",
       "1                          3           1  \n",
       "2                          2           0  \n",
       "3                          5           1  \n",
       "4                          2           1  "
      ]
     },
     "execution_count": 4,
     "metadata": {},
     "output_type": "execute_result"
    }
   ],
   "source": [
    "dataFranme = pd.read_csv('https://raw.githubusercontent.com/SeliyaMindula/ML_Assignment2_IT19151298_IT19149936_IT19006208_IT19179186/IT19149936-Buddhi/Dataset/Employee.csv',encoding='latin-1')\n",
    "dataFranme.head()"
   ]
  },
  {
   "cell_type": "code",
   "execution_count": 5,
   "id": "7b553a24",
   "metadata": {},
   "outputs": [],
   "source": [
    "#Display Number of Rows, Columns"
   ]
  },
  {
   "cell_type": "code",
   "execution_count": 6,
   "id": "de3840d7",
   "metadata": {
    "scrolled": true
   },
   "outputs": [
    {
     "name": "stdout",
     "output_type": "stream",
     "text": [
      "<class 'pandas.core.frame.DataFrame'>\n",
      "RangeIndex: 4653 entries, 0 to 4652\n",
      "Data columns (total 9 columns):\n",
      " #   Column                     Non-Null Count  Dtype \n",
      "---  ------                     --------------  ----- \n",
      " 0   Education                  4653 non-null   object\n",
      " 1   JoiningYear                4653 non-null   int64 \n",
      " 2   City                       4653 non-null   object\n",
      " 3   PaymentTier                4653 non-null   int64 \n",
      " 4   Age                        4653 non-null   int64 \n",
      " 5   Gender                     4653 non-null   object\n",
      " 6   EverBenched                4653 non-null   object\n",
      " 7   ExperienceInCurrentDomain  4653 non-null   int64 \n",
      " 8   LeaveOrNot                 4653 non-null   int64 \n",
      "dtypes: int64(5), object(4)\n",
      "memory usage: 327.3+ KB\n"
     ]
    }
   ],
   "source": [
    "dataFranme.info()"
   ]
  },
  {
   "cell_type": "code",
   "execution_count": 7,
   "id": "90719311",
   "metadata": {},
   "outputs": [],
   "source": [
    "#Number of Missing Values in the Dataset"
   ]
  },
  {
   "cell_type": "code",
   "execution_count": 8,
   "id": "c55f095c",
   "metadata": {},
   "outputs": [
    {
     "data": {
      "text/plain": [
       "Education                    0\n",
       "JoiningYear                  0\n",
       "City                         0\n",
       "PaymentTier                  0\n",
       "Age                          0\n",
       "Gender                       0\n",
       "EverBenched                  0\n",
       "ExperienceInCurrentDomain    0\n",
       "LeaveOrNot                   0\n",
       "dtype: int64"
      ]
     },
     "execution_count": 8,
     "metadata": {},
     "output_type": "execute_result"
    }
   ],
   "source": [
    "dataFranme.isnull().sum()"
   ]
  },
  {
   "cell_type": "code",
   "execution_count": 9,
   "id": "188ffbf9",
   "metadata": {},
   "outputs": [],
   "source": [
    "#Cleanning the Dataset"
   ]
  },
  {
   "cell_type": "code",
   "execution_count": 10,
   "id": "defb18ac",
   "metadata": {},
   "outputs": [
    {
     "data": {
      "text/plain": [
       "Male      2778\n",
       "Female    1875\n",
       "Name: Gender, dtype: int64"
      ]
     },
     "execution_count": 10,
     "metadata": {},
     "output_type": "execute_result"
    }
   ],
   "source": [
    "dataFranme['Gender'].value_counts()"
   ]
  },
  {
   "cell_type": "code",
   "execution_count": 11,
   "id": "f94e05a2",
   "metadata": {},
   "outputs": [],
   "source": [
    "def Gender_convert(inp):\n",
    "    if inp=='Male':\n",
    "        return '0'\n",
    "    if inp=='Female':\n",
    "        return '1'\n",
    "dataFranme['Gender']= dataFranme['Gender'].apply(Gender_convert) "
   ]
  },
  {
   "cell_type": "code",
   "execution_count": 12,
   "id": "3f32f0f4",
   "metadata": {},
   "outputs": [],
   "source": [
    "dataFranme['Gender'] = pd.to_numeric(dataFranme['Gender'])"
   ]
  },
  {
   "cell_type": "code",
   "execution_count": 13,
   "id": "60b71b66",
   "metadata": {},
   "outputs": [
    {
     "data": {
      "text/plain": [
       "0       0\n",
       "1       1\n",
       "2       1\n",
       "3       0\n",
       "4       0\n",
       "       ..\n",
       "4648    1\n",
       "4649    0\n",
       "4650    0\n",
       "4651    0\n",
       "4652    0\n",
       "Name: Gender, Length: 4653, dtype: int64"
      ]
     },
     "execution_count": 13,
     "metadata": {},
     "output_type": "execute_result"
    }
   ],
   "source": [
    "dataFranme['Gender']"
   ]
  },
  {
   "cell_type": "code",
   "execution_count": 14,
   "id": "13ec2120",
   "metadata": {},
   "outputs": [
    {
     "data": {
      "text/plain": [
       "Bachelors    3601\n",
       "Masters       873\n",
       "PHD           179\n",
       "Name: Education, dtype: int64"
      ]
     },
     "execution_count": 14,
     "metadata": {},
     "output_type": "execute_result"
    }
   ],
   "source": [
    "dataFranme['Education'].value_counts()"
   ]
  },
  {
   "cell_type": "code",
   "execution_count": 15,
   "id": "8595e0d2",
   "metadata": {},
   "outputs": [],
   "source": [
    "def Education_convert(inp):\n",
    "    if inp=='Bachelors':\n",
    "        return '0'\n",
    "    if inp=='Masters':\n",
    "        return '1'\n",
    "    if inp=='PHD':\n",
    "        return '2'\n",
    "dataFranme['Education']= dataFranme['Education'].apply(Education_convert)"
   ]
  },
  {
   "cell_type": "code",
   "execution_count": 16,
   "id": "141b4b47",
   "metadata": {},
   "outputs": [],
   "source": [
    "dataFranme['Education'] = pd.to_numeric(dataFranme['Education'])"
   ]
  },
  {
   "cell_type": "code",
   "execution_count": 17,
   "id": "bc42c049",
   "metadata": {},
   "outputs": [
    {
     "data": {
      "text/plain": [
       "0       0\n",
       "1       0\n",
       "2       0\n",
       "3       1\n",
       "4       1\n",
       "       ..\n",
       "4648    0\n",
       "4649    1\n",
       "4650    1\n",
       "4651    0\n",
       "4652    0\n",
       "Name: Education, Length: 4653, dtype: int64"
      ]
     },
     "execution_count": 17,
     "metadata": {},
     "output_type": "execute_result"
    }
   ],
   "source": [
    "dataFranme['Education']"
   ]
  },
  {
   "cell_type": "code",
   "execution_count": 18,
   "id": "89b73cdb",
   "metadata": {},
   "outputs": [
    {
     "data": {
      "text/plain": [
       "Bangalore    2228\n",
       "Pune         1268\n",
       "New Delhi    1157\n",
       "Name: City, dtype: int64"
      ]
     },
     "execution_count": 18,
     "metadata": {},
     "output_type": "execute_result"
    }
   ],
   "source": [
    "dataFranme['City'].value_counts()"
   ]
  },
  {
   "cell_type": "code",
   "execution_count": 19,
   "id": "d01735b5",
   "metadata": {},
   "outputs": [],
   "source": [
    "def City_convert(inp):\n",
    "    if inp=='Bangalore':\n",
    "        return '0'\n",
    "    if inp=='Pune':\n",
    "        return '1'\n",
    "    if inp=='New Delhi':\n",
    "        return '2'\n",
    "dataFranme['City']= dataFranme['City'].apply(City_convert)"
   ]
  },
  {
   "cell_type": "code",
   "execution_count": 20,
   "id": "ee2abe78",
   "metadata": {},
   "outputs": [],
   "source": [
    "dataFranme['City'] = pd.to_numeric(dataFranme['City'])"
   ]
  },
  {
   "cell_type": "code",
   "execution_count": 21,
   "id": "718c3ff6",
   "metadata": {},
   "outputs": [
    {
     "data": {
      "text/plain": [
       "0       0\n",
       "1       1\n",
       "2       2\n",
       "3       0\n",
       "4       1\n",
       "       ..\n",
       "4648    0\n",
       "4649    1\n",
       "4650    2\n",
       "4651    0\n",
       "4652    0\n",
       "Name: City, Length: 4653, dtype: int64"
      ]
     },
     "execution_count": 21,
     "metadata": {},
     "output_type": "execute_result"
    }
   ],
   "source": [
    "dataFranme['City']"
   ]
  },
  {
   "cell_type": "code",
   "execution_count": 22,
   "id": "98cc5e09",
   "metadata": {},
   "outputs": [
    {
     "data": {
      "text/plain": [
       "No     4175\n",
       "Yes     478\n",
       "Name: EverBenched, dtype: int64"
      ]
     },
     "execution_count": 22,
     "metadata": {},
     "output_type": "execute_result"
    }
   ],
   "source": [
    " dataFranme['EverBenched'].value_counts()"
   ]
  },
  {
   "cell_type": "code",
   "execution_count": 23,
   "id": "f05ab768",
   "metadata": {},
   "outputs": [],
   "source": [
    "def EverBenched_convert(inp):\n",
    "    if inp=='No':\n",
    "        return '0'\n",
    "    if inp=='Yes':\n",
    "        return '1'\n",
    "dataFranme['EverBenched']= dataFranme['EverBenched'].apply(EverBenched_convert) "
   ]
  },
  {
   "cell_type": "code",
   "execution_count": 24,
   "id": "8b1bc9ec",
   "metadata": {},
   "outputs": [],
   "source": [
    "dataFranme['EverBenched'] = pd.to_numeric(dataFranme['EverBenched'])"
   ]
  },
  {
   "cell_type": "code",
   "execution_count": 25,
   "id": "c68a0d28",
   "metadata": {},
   "outputs": [
    {
     "data": {
      "text/plain": [
       "0       0\n",
       "1       0\n",
       "2       0\n",
       "3       0\n",
       "4       1\n",
       "       ..\n",
       "4648    0\n",
       "4649    0\n",
       "4650    0\n",
       "4651    1\n",
       "4652    1\n",
       "Name: EverBenched, Length: 4653, dtype: int64"
      ]
     },
     "execution_count": 25,
     "metadata": {},
     "output_type": "execute_result"
    }
   ],
   "source": [
    "dataFranme['EverBenched']"
   ]
  },
  {
   "cell_type": "code",
   "execution_count": null,
   "id": "8c3cb6e2",
   "metadata": {},
   "outputs": [],
   "source": []
  },
  {
   "cell_type": "code",
   "execution_count": null,
   "id": "073ca909",
   "metadata": {},
   "outputs": [],
   "source": []
  },
  {
   "cell_type": "code",
   "execution_count": null,
   "id": "d722bde5",
   "metadata": {},
   "outputs": [],
   "source": []
  },
  {
   "cell_type": "code",
   "execution_count": null,
   "id": "a5008319",
   "metadata": {},
   "outputs": [],
   "source": []
  },
  {
   "cell_type": "code",
   "execution_count": 12,
   "id": "6d67a7e7",
   "metadata": {},
   "outputs": [],
   "source": [
    "#Pandas DataFrame Drop"
   ]
  },
  {
   "cell_type": "code",
   "execution_count": 20,
   "id": "a2bc179d",
   "metadata": {},
   "outputs": [],
   "source": [
    "X = dataFranme.drop('LeaveOrNot',axis=1)\n",
    "Y = dataFranme['LeaveOrNot']"
   ]
  },
  {
   "cell_type": "code",
   "execution_count": 14,
   "id": "596ff7bd",
   "metadata": {},
   "outputs": [],
   "source": [
    "#Find the Pairwise Correlation of All Columns in the Dataframe"
   ]
  },
  {
   "cell_type": "code",
   "execution_count": 26,
   "id": "7828f9b4",
   "metadata": {},
   "outputs": [],
   "source": [
    "def model_acc(model):\n",
    "    model.fit(X_train,Y_train)\n",
    "    acc1 = model.score(X_train,Y_train)\n",
    "    acc2 = model.score(X_test,Y_test)\n",
    "    print(str(model)+' Training Accuracy --> '+str(acc1))\n",
    "    print(str(model)+' Testing Accuracy --> '+str(acc2))"
   ]
  },
  {
   "cell_type": "code",
   "execution_count": 31,
   "id": "4bb3af63",
   "metadata": {},
   "outputs": [],
   "source": [
    "#Hyperparameter tuning"
   ]
  }
 ],
 "metadata": {
  "kernelspec": {
   "display_name": "Python 3 (ipykernel)",
   "language": "python",
   "name": "python3"
  },
  "language_info": {
   "codemirror_mode": {
    "name": "ipython",
    "version": 3
   },
   "file_extension": ".py",
   "mimetype": "text/x-python",
   "name": "python",
   "nbconvert_exporter": "python",
   "pygments_lexer": "ipython3",
   "version": "3.9.7"
  }
 },
 "nbformat": 4,
 "nbformat_minor": 5
}
