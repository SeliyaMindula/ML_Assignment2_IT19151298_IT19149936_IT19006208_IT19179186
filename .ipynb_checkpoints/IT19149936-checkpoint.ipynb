{
 "cells": [
  {
   "cell_type": "markdown",
   "id": "184b7d45",
   "metadata": {},
   "source": [
    "# Import Packages"
   ]
  },
  {
   "cell_type": "code",
   "execution_count": 6,
   "id": "9c134d9c",
   "metadata": {},
   "outputs": [],
   "source": [
    "import numpy as np\n",
    "import pandas as pd"
   ]
  },
  {
   "cell_type": "markdown",
   "id": "0def2375",
   "metadata": {},
   "source": [
    "# Import Dataset"
   ]
  },
  {
   "cell_type": "code",
   "execution_count": 8,
   "id": "58e74621",
   "metadata": {},
   "outputs": [
    {
     "data": {
      "text/html": [
       "<div>\n",
       "<style scoped>\n",
       "    .dataframe tbody tr th:only-of-type {\n",
       "        vertical-align: middle;\n",
       "    }\n",
       "\n",
       "    .dataframe tbody tr th {\n",
       "        vertical-align: top;\n",
       "    }\n",
       "\n",
       "    .dataframe thead th {\n",
       "        text-align: right;\n",
       "    }\n",
       "</style>\n",
       "<table border=\"1\" class=\"dataframe\">\n",
       "  <thead>\n",
       "    <tr style=\"text-align: right;\">\n",
       "      <th></th>\n",
       "      <th>Education</th>\n",
       "      <th>JoiningYear</th>\n",
       "      <th>City</th>\n",
       "      <th>PaymentTier</th>\n",
       "      <th>Age</th>\n",
       "      <th>Gender</th>\n",
       "      <th>EverBenched</th>\n",
       "      <th>ExperienceInCurrentDomain</th>\n",
       "      <th>LeaveOrNot</th>\n",
       "    </tr>\n",
       "  </thead>\n",
       "  <tbody>\n",
       "    <tr>\n",
       "      <th>0</th>\n",
       "      <td>Bachelors</td>\n",
       "      <td>2017</td>\n",
       "      <td>Bangalore</td>\n",
       "      <td>3</td>\n",
       "      <td>34</td>\n",
       "      <td>Male</td>\n",
       "      <td>No</td>\n",
       "      <td>0</td>\n",
       "      <td>0</td>\n",
       "    </tr>\n",
       "    <tr>\n",
       "      <th>1</th>\n",
       "      <td>Bachelors</td>\n",
       "      <td>2013</td>\n",
       "      <td>Pune</td>\n",
       "      <td>1</td>\n",
       "      <td>28</td>\n",
       "      <td>Female</td>\n",
       "      <td>No</td>\n",
       "      <td>3</td>\n",
       "      <td>1</td>\n",
       "    </tr>\n",
       "    <tr>\n",
       "      <th>2</th>\n",
       "      <td>Bachelors</td>\n",
       "      <td>2014</td>\n",
       "      <td>New Delhi</td>\n",
       "      <td>3</td>\n",
       "      <td>38</td>\n",
       "      <td>Female</td>\n",
       "      <td>No</td>\n",
       "      <td>2</td>\n",
       "      <td>0</td>\n",
       "    </tr>\n",
       "    <tr>\n",
       "      <th>3</th>\n",
       "      <td>Masters</td>\n",
       "      <td>2016</td>\n",
       "      <td>Bangalore</td>\n",
       "      <td>3</td>\n",
       "      <td>27</td>\n",
       "      <td>Male</td>\n",
       "      <td>No</td>\n",
       "      <td>5</td>\n",
       "      <td>1</td>\n",
       "    </tr>\n",
       "    <tr>\n",
       "      <th>4</th>\n",
       "      <td>Masters</td>\n",
       "      <td>2017</td>\n",
       "      <td>Pune</td>\n",
       "      <td>3</td>\n",
       "      <td>24</td>\n",
       "      <td>Male</td>\n",
       "      <td>Yes</td>\n",
       "      <td>2</td>\n",
       "      <td>1</td>\n",
       "    </tr>\n",
       "  </tbody>\n",
       "</table>\n",
       "</div>"
      ],
      "text/plain": [
       "   Education  JoiningYear       City  PaymentTier  Age  Gender EverBenched  \\\n",
       "0  Bachelors         2017  Bangalore            3   34    Male          No   \n",
       "1  Bachelors         2013       Pune            1   28  Female          No   \n",
       "2  Bachelors         2014  New Delhi            3   38  Female          No   \n",
       "3    Masters         2016  Bangalore            3   27    Male          No   \n",
       "4    Masters         2017       Pune            3   24    Male         Yes   \n",
       "\n",
       "   ExperienceInCurrentDomain  LeaveOrNot  \n",
       "0                          0           0  \n",
       "1                          3           1  \n",
       "2                          2           0  \n",
       "3                          5           1  \n",
       "4                          2           1  "
      ]
     },
     "execution_count": 8,
     "metadata": {},
     "output_type": "execute_result"
    }
   ],
   "source": [
    "dataFranme = pd.read_csv('https://raw.githubusercontent.com/SeliyaMindula/ML_Assignment2_IT19151298_IT19149936_IT19006208_IT19179186/IT19149936-Buddhi/Dataset/Employee.csv',encoding='latin-1')\n",
    "dataFranme.head()"
   ]
  },
  {
   "cell_type": "markdown",
   "id": "d31c6bbc",
   "metadata": {},
   "source": [
    "# Display Number of Rows, Columns"
   ]
  },
  {
   "cell_type": "code",
   "execution_count": 10,
   "id": "de3840d7",
   "metadata": {
    "scrolled": true
   },
   "outputs": [
    {
     "name": "stdout",
     "output_type": "stream",
     "text": [
      "<class 'pandas.core.frame.DataFrame'>\n",
      "RangeIndex: 4653 entries, 0 to 4652\n",
      "Data columns (total 9 columns):\n",
      " #   Column                     Non-Null Count  Dtype \n",
      "---  ------                     --------------  ----- \n",
      " 0   Education                  4653 non-null   object\n",
      " 1   JoiningYear                4653 non-null   int64 \n",
      " 2   City                       4653 non-null   object\n",
      " 3   PaymentTier                4653 non-null   int64 \n",
      " 4   Age                        4653 non-null   int64 \n",
      " 5   Gender                     4653 non-null   object\n",
      " 6   EverBenched                4653 non-null   object\n",
      " 7   ExperienceInCurrentDomain  4653 non-null   int64 \n",
      " 8   LeaveOrNot                 4653 non-null   int64 \n",
      "dtypes: int64(5), object(4)\n",
      "memory usage: 327.3+ KB\n"
     ]
    }
   ],
   "source": [
    "dataFranme.info()"
   ]
  },
  {
   "cell_type": "markdown",
   "id": "c2799e7d",
   "metadata": {},
   "source": [
    "# Number of Missing Values in the Dataset"
   ]
  },
  {
   "cell_type": "code",
   "execution_count": 12,
   "id": "c55f095c",
   "metadata": {},
   "outputs": [
    {
     "data": {
      "text/plain": [
       "Education                    0\n",
       "JoiningYear                  0\n",
       "City                         0\n",
       "PaymentTier                  0\n",
       "Age                          0\n",
       "Gender                       0\n",
       "EverBenched                  0\n",
       "ExperienceInCurrentDomain    0\n",
       "LeaveOrNot                   0\n",
       "dtype: int64"
      ]
     },
     "execution_count": 12,
     "metadata": {},
     "output_type": "execute_result"
    }
   ],
   "source": [
    "dataFranme.isnull().sum()"
   ]
  },
  {
   "cell_type": "markdown",
   "id": "b1ed2a60",
   "metadata": {},
   "source": [
    "# Cleanning the Dataset"
   ]
  },
  {
   "cell_type": "code",
   "execution_count": 14,
   "id": "5c8bd143",
   "metadata": {},
   "outputs": [
    {
     "data": {
      "text/plain": [
       "Male      2778\n",
       "Female    1875\n",
       "Name: Gender, dtype: int64"
      ]
     },
     "execution_count": 14,
     "metadata": {},
     "output_type": "execute_result"
    }
   ],
   "source": [
    "dataFranme['Gender'].value_counts()"
   ]
  },
  {
   "cell_type": "code",
   "execution_count": 15,
   "id": "226b8f51",
   "metadata": {},
   "outputs": [],
   "source": [
    "def Gender_convert(inp):\n",
    "    if inp=='Male':\n",
    "        return '0'\n",
    "    if inp=='Female':\n",
    "        return '1'\n",
    "dataFranme['Gender']= dataFranme['Gender'].apply(Gender_convert) "
   ]
  },
  {
   "cell_type": "code",
   "execution_count": 16,
   "id": "9a9d2f62",
   "metadata": {},
   "outputs": [],
   "source": [
    "dataFranme['Gender'] = pd.to_numeric(dataFranme['Gender'])"
   ]
  },
  {
   "cell_type": "code",
   "execution_count": 17,
   "id": "8842aaca",
   "metadata": {},
   "outputs": [
    {
     "data": {
      "text/plain": [
       "0       0\n",
       "1       1\n",
       "2       1\n",
       "3       0\n",
       "4       0\n",
       "       ..\n",
       "4648    1\n",
       "4649    0\n",
       "4650    0\n",
       "4651    0\n",
       "4652    0\n",
       "Name: Gender, Length: 4653, dtype: int64"
      ]
     },
     "execution_count": 17,
     "metadata": {},
     "output_type": "execute_result"
    }
   ],
   "source": [
    "dataFranme['Gender']"
   ]
  },
  {
   "cell_type": "code",
   "execution_count": 18,
   "id": "399ec58b",
   "metadata": {},
   "outputs": [
    {
     "data": {
      "text/plain": [
       "Bachelors    3601\n",
       "Masters       873\n",
       "PHD           179\n",
       "Name: Education, dtype: int64"
      ]
     },
     "execution_count": 18,
     "metadata": {},
     "output_type": "execute_result"
    }
   ],
   "source": [
    "dataFranme['Education'].value_counts()"
   ]
  },
  {
   "cell_type": "code",
   "execution_count": 19,
   "id": "258bb3ac",
   "metadata": {},
   "outputs": [],
   "source": [
    "def Education_convert(inp):\n",
    "    if inp=='Bachelors':\n",
    "        return '0'\n",
    "    if inp=='Masters':\n",
    "        return '1'\n",
    "    if inp=='PHD':\n",
    "        return '2'\n",
    "dataFranme['Education']= dataFranme['Education'].apply(Education_convert)"
   ]
  },
  {
   "cell_type": "code",
   "execution_count": 20,
   "id": "4f9895e4",
   "metadata": {},
   "outputs": [],
   "source": [
    "dataFranme['Education'] = pd.to_numeric(dataFranme['Education'])"
   ]
  },
  {
   "cell_type": "code",
   "execution_count": 21,
   "id": "dd7ef73a",
   "metadata": {},
   "outputs": [
    {
     "data": {
      "text/plain": [
       "0       0\n",
       "1       0\n",
       "2       0\n",
       "3       1\n",
       "4       1\n",
       "       ..\n",
       "4648    0\n",
       "4649    1\n",
       "4650    1\n",
       "4651    0\n",
       "4652    0\n",
       "Name: Education, Length: 4653, dtype: int64"
      ]
     },
     "execution_count": 21,
     "metadata": {},
     "output_type": "execute_result"
    }
   ],
   "source": [
    "dataFranme['Education']"
   ]
  },
  {
   "cell_type": "code",
   "execution_count": 22,
   "id": "2103dffb",
   "metadata": {},
   "outputs": [
    {
     "data": {
      "text/plain": [
       "Bangalore    2228\n",
       "Pune         1268\n",
       "New Delhi    1157\n",
       "Name: City, dtype: int64"
      ]
     },
     "execution_count": 22,
     "metadata": {},
     "output_type": "execute_result"
    }
   ],
   "source": [
    "dataFranme['City'].value_counts()"
   ]
  },
  {
   "cell_type": "code",
   "execution_count": 23,
   "id": "dd316919",
   "metadata": {},
   "outputs": [],
   "source": [
    "def City_convert(inp):\n",
    "    if inp=='Bangalore':\n",
    "        return '0'\n",
    "    if inp=='Pune':\n",
    "        return '1'\n",
    "    if inp=='New Delhi':\n",
    "        return '2'\n",
    "dataFranme['City']= dataFranme['City'].apply(City_convert)"
   ]
  },
  {
   "cell_type": "code",
   "execution_count": 24,
   "id": "e00da61d",
   "metadata": {},
   "outputs": [],
   "source": [
    "dataFranme['City'] = pd.to_numeric(dataFranme['City'])"
   ]
  },
  {
   "cell_type": "code",
   "execution_count": 25,
   "id": "3a601d44",
   "metadata": {},
   "outputs": [
    {
     "data": {
      "text/plain": [
       "0       0\n",
       "1       1\n",
       "2       2\n",
       "3       0\n",
       "4       1\n",
       "       ..\n",
       "4648    0\n",
       "4649    1\n",
       "4650    2\n",
       "4651    0\n",
       "4652    0\n",
       "Name: City, Length: 4653, dtype: int64"
      ]
     },
     "execution_count": 25,
     "metadata": {},
     "output_type": "execute_result"
    }
   ],
   "source": [
    "dataFranme['City']"
   ]
  },
  {
   "cell_type": "code",
   "execution_count": 26,
   "id": "a5edc110",
   "metadata": {},
   "outputs": [
    {
     "data": {
      "text/plain": [
       "No     4175\n",
       "Yes     478\n",
       "Name: EverBenched, dtype: int64"
      ]
     },
     "execution_count": 26,
     "metadata": {},
     "output_type": "execute_result"
    }
   ],
   "source": [
    " dataFranme['EverBenched'].value_counts()"
   ]
  },
  {
   "cell_type": "code",
   "execution_count": 27,
   "id": "bc444f2f",
   "metadata": {},
   "outputs": [],
   "source": [
    "def EverBenched_convert(inp):\n",
    "    if inp=='No':\n",
    "        return '0'\n",
    "    if inp=='Yes':\n",
    "        return '1'\n",
    "dataFranme['EverBenched']= dataFranme['EverBenched'].apply(EverBenched_convert) "
   ]
  },
  {
   "cell_type": "code",
   "execution_count": 28,
   "id": "b92aad56",
   "metadata": {},
   "outputs": [],
   "source": [
    "dataFranme['EverBenched'] = pd.to_numeric(dataFranme['EverBenched'])"
   ]
  },
  {
   "cell_type": "code",
   "execution_count": 29,
   "id": "9a43de0d",
   "metadata": {},
   "outputs": [
    {
     "data": {
      "text/plain": [
       "0       0\n",
       "1       0\n",
       "2       0\n",
       "3       0\n",
       "4       1\n",
       "       ..\n",
       "4648    0\n",
       "4649    0\n",
       "4650    0\n",
       "4651    1\n",
       "4652    1\n",
       "Name: EverBenched, Length: 4653, dtype: int64"
      ]
     },
     "execution_count": 29,
     "metadata": {},
     "output_type": "execute_result"
    }
   ],
   "source": [
    "dataFranme['EverBenched']"
   ]
  },
  {
   "cell_type": "markdown",
   "id": "3a92da85",
   "metadata": {},
   "source": [
    "# Pandas DataFrame Drop"
   ]
  },
  {
   "cell_type": "code",
   "execution_count": 31,
   "id": "a2bc179d",
   "metadata": {},
   "outputs": [],
   "source": [
    "X = dataFranme.drop('LeaveOrNot',axis=1)\n",
    "Y = dataFranme['LeaveOrNot']"
   ]
  },
  {
   "cell_type": "markdown",
   "id": "9234b467",
   "metadata": {},
   "source": [
    "# Data Spliting"
   ]
  },
  {
   "cell_type": "code",
   "execution_count": 33,
   "id": "e03ab0d5",
   "metadata": {},
   "outputs": [],
   "source": [
    "from sklearn.model_selection import train_test_split\n",
    "X_train, X_test, Y_train, Y_test = train_test_split(X,Y, test_size=0.20)"
   ]
  },
  {
   "cell_type": "markdown",
   "id": "f18c79cc",
   "metadata": {},
   "source": [
    "# Find the Pairwise Correlation of All Columns in the Dataframe"
   ]
  },
  {
   "cell_type": "code",
   "execution_count": 36,
   "id": "e6a059af",
   "metadata": {},
   "outputs": [
    {
     "data": {
      "text/plain": [
       "Education                    0.080497\n",
       "JoiningYear                  0.181705\n",
       "City                         0.076730\n",
       "PaymentTier                 -0.197638\n",
       "Age                         -0.051126\n",
       "Gender                       0.220701\n",
       "EverBenched                  0.078438\n",
       "ExperienceInCurrentDomain   -0.030504\n",
       "LeaveOrNot                   1.000000\n",
       "Name: LeaveOrNot, dtype: float64"
      ]
     },
     "execution_count": 36,
     "metadata": {},
     "output_type": "execute_result"
    }
   ],
   "source": [
    "dataFranme.corr()['LeaveOrNot']"
   ]
  },
  {
   "cell_type": "markdown",
   "id": "9f42bba0",
   "metadata": {},
   "source": [
    "# Training andTesting Accuracy"
   ]
  },
  {
   "cell_type": "code",
   "execution_count": 38,
   "id": "7828f9b4",
   "metadata": {},
   "outputs": [],
   "source": [
    "def model_acc(model):\n",
    "    model.fit(X_train,Y_train)\n",
    "    acc1 = model.score(X_train,Y_train)\n",
    "    acc2 = model.score(X_test,Y_test)\n",
    "    print(str(model)+' Training Accuracy --> '+str(acc1))\n",
    "    print(str(model)+' Testing Accuracy --> '+str(acc2))"
   ]
  },
  {
   "cell_type": "code",
   "execution_count": 39,
   "id": "e2202a75",
   "metadata": {},
   "outputs": [
    {
     "name": "stdout",
     "output_type": "stream",
     "text": [
      "LogisticRegression() Training Accuracy --> 0.6937130574959699\n",
      "LogisticRegression() Testing Accuracy --> 0.677765843179377\n"
     ]
    }
   ],
   "source": [
    "from sklearn.linear_model import LogisticRegression\n",
    "LR = LogisticRegression()\n",
    "model_acc(LR)"
   ]
  },
  {
   "cell_type": "code",
   "execution_count": 40,
   "id": "8948e8c7",
   "metadata": {},
   "outputs": [
    {
     "name": "stdout",
     "output_type": "stream",
     "text": [
      "SVC() Training Accuracy --> 0.6636217087587318\n",
      "SVC() Testing Accuracy --> 0.6262083780880774\n"
     ]
    }
   ],
   "source": [
    "from sklearn.svm import SVC\n",
    "SVCC = SVC()\n",
    "model_acc(SVCC)"
   ]
  },
  {
   "cell_type": "code",
   "execution_count": 41,
   "id": "f2990d18",
   "metadata": {},
   "outputs": [
    {
     "name": "stdout",
     "output_type": "stream",
     "text": [
      "SGDClassifier() Training Accuracy --> 0.3363782912412681\n",
      "SGDClassifier() Testing Accuracy --> 0.37379162191192267\n"
     ]
    }
   ],
   "source": [
    "from sklearn.linear_model import SGDClassifier\n",
    "SGDC = SGDClassifier()\n",
    "model_acc(SGDC)"
   ]
  },
  {
   "cell_type": "code",
   "execution_count": 42,
   "id": "d3257140",
   "metadata": {},
   "outputs": [
    {
     "name": "stdout",
     "output_type": "stream",
     "text": [
      "KNeighborsClassifier() Training Accuracy --> 0.8447071466953251\n",
      "KNeighborsClassifier() Testing Accuracy --> 0.7540279269602578\n"
     ]
    }
   ],
   "source": [
    "from sklearn.neighbors import KNeighborsClassifier\n",
    "KNC = KNeighborsClassifier()\n",
    "model_acc(KNC)"
   ]
  },
  {
   "cell_type": "code",
   "execution_count": 43,
   "id": "f3178c4f",
   "metadata": {},
   "outputs": [
    {
     "name": "stdout",
     "output_type": "stream",
     "text": [
      "DecisionTreeClassifier() Training Accuracy --> 0.9314884470714669\n",
      "DecisionTreeClassifier() Testing Accuracy --> 0.8098818474758325\n"
     ]
    }
   ],
   "source": [
    "from sklearn.tree import DecisionTreeClassifier\n",
    "DTC = DecisionTreeClassifier()\n",
    "model_acc(DTC)"
   ]
  },
  {
   "cell_type": "code",
   "execution_count": 44,
   "id": "3db9d6ce",
   "metadata": {},
   "outputs": [
    {
     "name": "stdout",
     "output_type": "stream",
     "text": [
      "RandomForestClassifier() Training Accuracy --> 0.9312197743148845\n",
      "RandomForestClassifier() Testing Accuracy --> 0.8259935553168636\n"
     ]
    }
   ],
   "source": [
    "from sklearn.ensemble import RandomForestClassifier\n",
    "RFC = RandomForestClassifier()\n",
    "model_acc(RFC)"
   ]
  },
  {
   "cell_type": "code",
   "execution_count": 45,
   "id": "7001d57b",
   "metadata": {},
   "outputs": [
    {
     "name": "stdout",
     "output_type": "stream",
     "text": [
      "GradientBoostingClassifier() Training Accuracy --> 0.8449758194519076\n",
      "GradientBoostingClassifier() Testing Accuracy --> 0.8131041890440387\n"
     ]
    }
   ],
   "source": [
    "from sklearn.ensemble import GradientBoostingClassifier\n",
    "GBC = GradientBoostingClassifier()\n",
    "model_acc(GBC)"
   ]
  },
  {
   "cell_type": "code",
   "execution_count": 46,
   "id": "e4aff3c3",
   "metadata": {},
   "outputs": [
    {
     "name": "stdout",
     "output_type": "stream",
     "text": [
      "LGBMClassifier() Training Accuracy --> 0.8922622246104245\n",
      "LGBMClassifier() Testing Accuracy --> 0.8367346938775511\n"
     ]
    }
   ],
   "source": [
    "from lightgbm import LGBMClassifier\n",
    "LGBMC = LGBMClassifier()\n",
    "model_acc(LGBMC)"
   ]
  },
  {
   "cell_type": "code",
   "execution_count": 47,
   "id": "bd4a651f",
   "metadata": {},
   "outputs": [
    {
     "name": "stdout",
     "output_type": "stream",
     "text": [
      "XGBClassifier(base_score=0.5, booster='gbtree', callbacks=None,\n",
      "              colsample_bylevel=1, colsample_bynode=1, colsample_bytree=1,\n",
      "              early_stopping_rounds=None, enable_categorical=False,\n",
      "              eval_metric=None, gamma=0, gpu_id=-1, grow_policy='depthwise',\n",
      "              importance_type=None, interaction_constraints='',\n",
      "              learning_rate=0.300000012, max_bin=256, max_cat_to_onehot=4,\n",
      "              max_delta_step=0, max_depth=6, max_leaves=0, min_child_weight=1,\n",
      "              missing=nan, monotone_constraints='()', n_estimators=100,\n",
      "              n_jobs=0, num_parallel_tree=1, predictor='auto', random_state=0,\n",
      "              reg_alpha=0, reg_lambda=1, ...) Training Accuracy --> 0.9067705534658785\n",
      "XGBClassifier(base_score=0.5, booster='gbtree', callbacks=None,\n",
      "              colsample_bylevel=1, colsample_bynode=1, colsample_bytree=1,\n",
      "              early_stopping_rounds=None, enable_categorical=False,\n",
      "              eval_metric=None, gamma=0, gpu_id=-1, grow_policy='depthwise',\n",
      "              importance_type=None, interaction_constraints='',\n",
      "              learning_rate=0.300000012, max_bin=256, max_cat_to_onehot=4,\n",
      "              max_delta_step=0, max_depth=6, max_leaves=0, min_child_weight=1,\n",
      "              missing=nan, monotone_constraints='()', n_estimators=100,\n",
      "              n_jobs=0, num_parallel_tree=1, predictor='auto', random_state=0,\n",
      "              reg_alpha=0, reg_lambda=1, ...) Testing Accuracy --> 0.8292158968850698\n"
     ]
    }
   ],
   "source": [
    "from xgboost.sklearn import XGBClassifier\n",
    "XGBC = XGBClassifier()\n",
    "model_acc(XGBC)"
   ]
  },
  {
   "cell_type": "markdown",
   "id": "53aed3b4",
   "metadata": {},
   "source": [
    "# Cross Validation for Selected Algorithm"
   ]
  },
  {
   "cell_type": "code",
   "execution_count": 55,
   "id": "cedba19c",
   "metadata": {},
   "outputs": [],
   "source": [
    "from sklearn.model_selection import cross_val_score\n",
    "def model_acc_cross_val(model):\n",
    "    acc1 = cross_val_score(model,X_train,Y_train, cv=5).mean()\n",
    "    acc2 = cross_val_score(model,X_test,Y_test, cv=5).mean()\n",
    "    print(str(model)+' Training Accuracy --> '+str(acc1))\n",
    "    print(str(model)+' Testing Accuracy --> '+str(acc2))"
   ]
  },
  {
   "cell_type": "code",
   "execution_count": 56,
   "id": "05569a72",
   "metadata": {},
   "outputs": [
    {
     "name": "stdout",
     "output_type": "stream",
     "text": [
      "LogisticRegression() Training Accuracy --> 0.6934372519304324\n",
      "LogisticRegression() Testing Accuracy --> 0.6766660916566041\n"
     ]
    },
    {
     "name": "stderr",
     "output_type": "stream",
     "text": [
      "C:\\ProgramData\\Anaconda3\\lib\\site-packages\\sklearn\\linear_model\\_logistic.py:763: ConvergenceWarning: lbfgs failed to converge (status=1):\n",
      "STOP: TOTAL NO. of ITERATIONS REACHED LIMIT.\n",
      "\n",
      "Increase the number of iterations (max_iter) or scale the data as shown in:\n",
      "    https://scikit-learn.org/stable/modules/preprocessing.html\n",
      "Please also refer to the documentation for alternative solver options:\n",
      "    https://scikit-learn.org/stable/modules/linear_model.html#logistic-regression\n",
      "  n_iter_i = _check_optimize_result(\n",
      "C:\\ProgramData\\Anaconda3\\lib\\site-packages\\sklearn\\linear_model\\_logistic.py:763: ConvergenceWarning: lbfgs failed to converge (status=1):\n",
      "STOP: TOTAL NO. of ITERATIONS REACHED LIMIT.\n",
      "\n",
      "Increase the number of iterations (max_iter) or scale the data as shown in:\n",
      "    https://scikit-learn.org/stable/modules/preprocessing.html\n",
      "Please also refer to the documentation for alternative solver options:\n",
      "    https://scikit-learn.org/stable/modules/linear_model.html#logistic-regression\n",
      "  n_iter_i = _check_optimize_result(\n",
      "C:\\ProgramData\\Anaconda3\\lib\\site-packages\\sklearn\\linear_model\\_logistic.py:763: ConvergenceWarning: lbfgs failed to converge (status=1):\n",
      "STOP: TOTAL NO. of ITERATIONS REACHED LIMIT.\n",
      "\n",
      "Increase the number of iterations (max_iter) or scale the data as shown in:\n",
      "    https://scikit-learn.org/stable/modules/preprocessing.html\n",
      "Please also refer to the documentation for alternative solver options:\n",
      "    https://scikit-learn.org/stable/modules/linear_model.html#logistic-regression\n",
      "  n_iter_i = _check_optimize_result(\n",
      "C:\\ProgramData\\Anaconda3\\lib\\site-packages\\sklearn\\linear_model\\_logistic.py:763: ConvergenceWarning: lbfgs failed to converge (status=1):\n",
      "STOP: TOTAL NO. of ITERATIONS REACHED LIMIT.\n",
      "\n",
      "Increase the number of iterations (max_iter) or scale the data as shown in:\n",
      "    https://scikit-learn.org/stable/modules/preprocessing.html\n",
      "Please also refer to the documentation for alternative solver options:\n",
      "    https://scikit-learn.org/stable/modules/linear_model.html#logistic-regression\n",
      "  n_iter_i = _check_optimize_result(\n",
      "C:\\ProgramData\\Anaconda3\\lib\\site-packages\\sklearn\\linear_model\\_logistic.py:763: ConvergenceWarning: lbfgs failed to converge (status=1):\n",
      "STOP: TOTAL NO. of ITERATIONS REACHED LIMIT.\n",
      "\n",
      "Increase the number of iterations (max_iter) or scale the data as shown in:\n",
      "    https://scikit-learn.org/stable/modules/preprocessing.html\n",
      "Please also refer to the documentation for alternative solver options:\n",
      "    https://scikit-learn.org/stable/modules/linear_model.html#logistic-regression\n",
      "  n_iter_i = _check_optimize_result(\n",
      "C:\\ProgramData\\Anaconda3\\lib\\site-packages\\sklearn\\linear_model\\_logistic.py:763: ConvergenceWarning: lbfgs failed to converge (status=1):\n",
      "STOP: TOTAL NO. of ITERATIONS REACHED LIMIT.\n",
      "\n",
      "Increase the number of iterations (max_iter) or scale the data as shown in:\n",
      "    https://scikit-learn.org/stable/modules/preprocessing.html\n",
      "Please also refer to the documentation for alternative solver options:\n",
      "    https://scikit-learn.org/stable/modules/linear_model.html#logistic-regression\n",
      "  n_iter_i = _check_optimize_result(\n",
      "C:\\ProgramData\\Anaconda3\\lib\\site-packages\\sklearn\\linear_model\\_logistic.py:763: ConvergenceWarning: lbfgs failed to converge (status=1):\n",
      "STOP: TOTAL NO. of ITERATIONS REACHED LIMIT.\n",
      "\n",
      "Increase the number of iterations (max_iter) or scale the data as shown in:\n",
      "    https://scikit-learn.org/stable/modules/preprocessing.html\n",
      "Please also refer to the documentation for alternative solver options:\n",
      "    https://scikit-learn.org/stable/modules/linear_model.html#logistic-regression\n",
      "  n_iter_i = _check_optimize_result(\n",
      "C:\\ProgramData\\Anaconda3\\lib\\site-packages\\sklearn\\linear_model\\_logistic.py:763: ConvergenceWarning: lbfgs failed to converge (status=1):\n",
      "STOP: TOTAL NO. of ITERATIONS REACHED LIMIT.\n",
      "\n",
      "Increase the number of iterations (max_iter) or scale the data as shown in:\n",
      "    https://scikit-learn.org/stable/modules/preprocessing.html\n",
      "Please also refer to the documentation for alternative solver options:\n",
      "    https://scikit-learn.org/stable/modules/linear_model.html#logistic-regression\n",
      "  n_iter_i = _check_optimize_result(\n"
     ]
    }
   ],
   "source": [
    "model_acc_cross_val(LR)"
   ]
  },
  {
   "cell_type": "code",
   "execution_count": 57,
   "id": "3c8b4c5a",
   "metadata": {},
   "outputs": [
    {
     "name": "stdout",
     "output_type": "stream",
     "text": [
      "SVC() Training Accuracy --> 0.6636219961030526\n",
      "SVC() Testing Accuracy --> 0.6262089586567765\n"
     ]
    }
   ],
   "source": [
    "model_acc_cross_val(SVCC)"
   ]
  },
  {
   "cell_type": "code",
   "execution_count": 58,
   "id": "17ad576f",
   "metadata": {},
   "outputs": [
    {
     "name": "stdout",
     "output_type": "stream",
     "text": [
      "SGDClassifier() Training Accuracy --> 0.5980305982535902\n",
      "SGDClassifier() Testing Accuracy --> 0.5745960554309699\n"
     ]
    }
   ],
   "source": [
    "model_acc_cross_val(SGDC)"
   ]
  },
  {
   "cell_type": "code",
   "execution_count": 59,
   "id": "85698716",
   "metadata": {},
   "outputs": [
    {
     "name": "stdout",
     "output_type": "stream",
     "text": [
      "KNeighborsClassifier() Training Accuracy --> 0.7780753409828967\n",
      "KNeighborsClassifier() Testing Accuracy --> 0.7121039618193319\n"
     ]
    }
   ],
   "source": [
    "model_acc_cross_val(KNC)"
   ]
  },
  {
   "cell_type": "code",
   "execution_count": 60,
   "id": "3aeb186f",
   "metadata": {},
   "outputs": [
    {
     "name": "stdout",
     "output_type": "stream",
     "text": [
      "DecisionTreeClassifier() Training Accuracy --> 0.8097802554665512\n",
      "DecisionTreeClassifier() Testing Accuracy --> 0.7475993329883274\n"
     ]
    }
   ],
   "source": [
    "model_acc_cross_val(DTC)"
   ]
  },
  {
   "cell_type": "code",
   "execution_count": 61,
   "id": "e15aedff",
   "metadata": {},
   "outputs": [
    {
     "name": "stdout",
     "output_type": "stream",
     "text": [
      "RandomForestClassifier() Training Accuracy --> 0.8250941762286208\n",
      "RandomForestClassifier() Testing Accuracy --> 0.7948191593352885\n"
     ]
    }
   ],
   "source": [
    "model_acc_cross_val(RFC)"
   ]
  },
  {
   "cell_type": "code",
   "execution_count": 62,
   "id": "c42126d5",
   "metadata": {},
   "outputs": [
    {
     "name": "stdout",
     "output_type": "stream",
     "text": [
      "LGBMClassifier() Training Accuracy --> 0.8498105650573716\n",
      "LGBMClassifier() Testing Accuracy --> 0.7894428152492668\n"
     ]
    }
   ],
   "source": [
    "model_acc_cross_val(LGBMC)"
   ]
  },
  {
   "cell_type": "code",
   "execution_count": 63,
   "id": "abec0c6c",
   "metadata": {},
   "outputs": [
    {
     "name": "stdout",
     "output_type": "stream",
     "text": [
      "GradientBoostingClassifier() Training Accuracy --> 0.8355722739409686\n",
      "GradientBoostingClassifier() Testing Accuracy --> 0.8055718475073312\n"
     ]
    }
   ],
   "source": [
    "model_acc_cross_val(GBC)"
   ]
  },
  {
   "cell_type": "code",
   "execution_count": 64,
   "id": "bb8c2fbe",
   "metadata": {},
   "outputs": [
    {
     "name": "stdout",
     "output_type": "stream",
     "text": [
      "XGBClassifier(base_score=0.5, booster='gbtree', callbacks=None,\n",
      "              colsample_bylevel=1, colsample_bynode=1, colsample_bytree=1,\n",
      "              early_stopping_rounds=None, enable_categorical=False,\n",
      "              eval_metric=None, gamma=0, gpu_id=-1, grow_policy='depthwise',\n",
      "              importance_type=None, interaction_constraints='',\n",
      "              learning_rate=0.300000012, max_bin=256, max_cat_to_onehot=4,\n",
      "              max_delta_step=0, max_depth=6, max_leaves=0, min_child_weight=1,\n",
      "              missing=nan, monotone_constraints='()', n_estimators=100,\n",
      "              n_jobs=0, num_parallel_tree=1, predictor='auto', random_state=0,\n",
      "              reg_alpha=0, reg_lambda=1, ...) Training Accuracy --> 0.8412159919174425\n",
      "XGBClassifier(base_score=0.5, booster='gbtree', callbacks=None,\n",
      "              colsample_bylevel=1, colsample_bynode=1, colsample_bytree=1,\n",
      "              early_stopping_rounds=None, enable_categorical=False,\n",
      "              eval_metric=None, gamma=0, gpu_id=-1, grow_policy='depthwise',\n",
      "              importance_type=None, interaction_constraints='',\n",
      "              learning_rate=0.300000012, max_bin=256, max_cat_to_onehot=4,\n",
      "              max_delta_step=0, max_depth=6, max_leaves=0, min_child_weight=1,\n",
      "              missing=nan, monotone_constraints='()', n_estimators=100,\n",
      "              n_jobs=0, num_parallel_tree=1, predictor='auto', random_state=0,\n",
      "              reg_alpha=0, reg_lambda=1, ...) Testing Accuracy --> 0.7722902650796388\n"
     ]
    }
   ],
   "source": [
    "model_acc_cross_val(XGBC)"
   ]
  },
  {
   "cell_type": "markdown",
   "id": "b1a4e5b1",
   "metadata": {},
   "source": [
    "# Hyperparameter tuning"
   ]
  },
  {
   "cell_type": "code",
   "execution_count": 96,
   "id": "39008a58",
   "metadata": {},
   "outputs": [],
   "source": [
    "from sklearn.model_selection import GridSearchCV\n",
    "param = {\n",
    "    'n_estimators': [25,50,100,200,250,300],\n",
    "    'criterion' : ['gini','entropy','log_loss'],\n",
    "    'min_samples_split': [1,2,3,4,5]\n",
    "}\n",
    "grid_obj = GridSearchCV(estimator=RFC, param_grid=param)\n"
   ]
  },
  {
   "cell_type": "code",
   "execution_count": 98,
   "id": "884e7335",
   "metadata": {},
   "outputs": [],
   "source": [
    "best_model = grid_fit.best_estimator_"
   ]
  },
  {
   "cell_type": "code",
   "execution_count": null,
   "id": "2a07a57c",
   "metadata": {},
   "outputs": [],
   "source": [
    "grid_fit = grid_obj.fit(X_train, Y_train)"
   ]
  },
  {
   "cell_type": "code",
   "execution_count": 99,
   "id": "44b22235",
   "metadata": {},
   "outputs": [],
   "source": [
    "best_model = grid_fit.best_estimator_"
   ]
  },
  {
   "cell_type": "code",
   "execution_count": 100,
   "id": "f6dd09b3",
   "metadata": {},
   "outputs": [
    {
     "data": {
      "text/plain": [
       "RandomForestClassifier(min_samples_split=5, n_estimators=250)"
      ]
     },
     "execution_count": 100,
     "metadata": {},
     "output_type": "execute_result"
    }
   ],
   "source": [
    "best_model"
   ]
  },
  {
   "cell_type": "code",
   "execution_count": 101,
   "id": "2ac7bd03",
   "metadata": {},
   "outputs": [
    {
     "data": {
      "text/plain": [
       "0.8356605800214822"
      ]
     },
     "execution_count": 101,
     "metadata": {},
     "output_type": "execute_result"
    }
   ],
   "source": [
    "best_model.score(X_test, Y_test)"
   ]
  },
  {
   "cell_type": "markdown",
   "id": "47228dfa",
   "metadata": {},
   "source": [
    "# To Save the Model"
   ]
  },
  {
   "cell_type": "code",
   "execution_count": 103,
   "id": "0df02ee6",
   "metadata": {},
   "outputs": [],
   "source": [
    "import pickle\n",
    "with open('IT19149936.pickle', 'wb') as file:\n",
    "    pickle.dump(best_model, file)"
   ]
  },
  {
   "cell_type": "markdown",
   "id": "cdd48716",
   "metadata": {},
   "source": [
    "# Make a Prediction Using the Model"
   ]
  },
  {
   "cell_type": "code",
   "execution_count": 113,
   "id": "581aa434",
   "metadata": {},
   "outputs": [
    {
     "name": "stdout",
     "output_type": "stream",
     "text": [
      "Education?  (Bachelors=0, Masters=1, PHD=2)\n",
      "2\n",
      "JoiningYear ?  (2012-2018)\n",
      "2014\n",
      "City ?  (Bangalore=0, Pune=1, NewDelhi=2)\n",
      "1\n",
      "PaymentTier ?  (1-3)\n",
      "2\n",
      "Age ?  (22-40)\n",
      "25\n",
      "Gender? (Male=0, Female=1)\n",
      "0\n",
      "EverBenched? (No=0, Yes=1)\n",
      "1\n",
      "ExperienceInCurrentDomain? (0-7)\n",
      "3\n",
      "Result --> Leave\n"
     ]
    }
   ],
   "source": [
    "    print('Education?  (Bachelors=0, Masters=1, PHD=2)')\n",
    "    n = input()\n",
    "    Education = int(n)\n",
    "        \n",
    "    print('JoiningYear ?  (2012-2018)')\n",
    "    n = input()\n",
    "    JoiningYear = int(n)\n",
    "    \n",
    "    \n",
    "    print('City ?  (Bangalore=0, Pune=1, NewDelhi=2)')\n",
    "    n = input()\n",
    "    City = int(n)\n",
    "        \n",
    "    print('PaymentTier ?  (1-3)')\n",
    "    n = input()\n",
    "    PaymentTier = int(n)\n",
    "    \n",
    "        \n",
    "    print('Age ?  (22-40)')\n",
    "    n = input()\n",
    "    Age = int(n)\n",
    "        \n",
    "    print('Gender? (Male=0, Female=1)')\n",
    "    n = input()\n",
    "    Gender = int(n)\n",
    "    \n",
    "    print('EverBenched? (No=0, Yes=1)')\n",
    "    n = input()\n",
    "    EverBenched = int(n)\n",
    "    \n",
    "    print('ExperienceInCurrentDomain? (0-7)')\n",
    "    n = input()\n",
    "    ExperienceInCurrentDomain = int(n)\n",
    "    \n",
    "    loaded_model = pickle.load(open('IT19149936.pickle', 'rb'))\n",
    "    result = loaded_model.predict([[Education,JoiningYear,City,PaymentTier,Age,Gender,EverBenched,ExperienceInCurrentDomain]])\n",
    "    if(result[0]==1):\n",
    "        print('Result --> Leave')\n",
    "    else:\n",
    "        print('Result --> Not Leave')\n",
    "    "
   ]
  },
  {
   "cell_type": "code",
   "execution_count": null,
   "id": "a918c073",
   "metadata": {},
   "outputs": [],
   "source": []
  }
 ],
 "metadata": {
  "kernelspec": {
   "display_name": "Python 3 (ipykernel)",
   "language": "python",
   "name": "python3"
  },
  "language_info": {
   "codemirror_mode": {
    "name": "ipython",
    "version": 3
   },
   "file_extension": ".py",
   "mimetype": "text/x-python",
   "name": "python",
   "nbconvert_exporter": "python",
   "pygments_lexer": "ipython3",
   "version": "3.9.7"
  }
 },
 "nbformat": 4,
 "nbformat_minor": 5
}
